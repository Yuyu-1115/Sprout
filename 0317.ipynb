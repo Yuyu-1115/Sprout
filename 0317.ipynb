{
 "cells": [
  {
   "cell_type": "code",
   "execution_count": 2,
   "metadata": {},
   "outputs": [
    {
     "name": "stdout",
     "output_type": "stream",
     "text": [
      "5\n"
     ]
    }
   ],
   "source": [
    "print(len([1, 2, 3, [1, 2, 3], []]))"
   ]
  },
  {
   "cell_type": "code",
   "execution_count": 11,
   "metadata": {},
   "outputs": [
    {
     "name": "stdout",
     "output_type": "stream",
     "text": [
      "['a', 'c', 'e']\n"
     ]
    }
   ],
   "source": [
    "l = [\"a\", \"b\", \"c\", \"d\", \"e\", \"f\", \"g\"]\n",
    "print(l[0:5:2])"
   ]
  },
  {
   "cell_type": "code",
   "execution_count": 19,
   "metadata": {},
   "outputs": [
    {
     "name": "stdout",
     "output_type": "stream",
     "text": [
      "[100, 87, 78]\n",
      "[87, 99, 59]\n"
     ]
    }
   ],
   "source": [
    "grades = [100, 87, 78, 99, 47, 59, 39.49]\n",
    "print(grades[:3])\n",
    "print(grades[1::2])"
   ]
  },
  {
   "cell_type": "code",
   "execution_count": 21,
   "metadata": {},
   "outputs": [
    {
     "name": "stdout",
     "output_type": "stream",
     "text": [
      "[1, 3, 5, 'd']\n"
     ]
    }
   ],
   "source": [
    "l = [\"a\", \"b\", \"c\", \"d\"]\n",
    "l[:3] = [1, 3, 5]\n",
    "print(l)"
   ]
  },
  {
   "cell_type": "code",
   "execution_count": 30,
   "metadata": {},
   "outputs": [
    {
     "name": "stdout",
     "output_type": "stream",
     "text": [
      "7\n",
      "3\n",
      "[1, 10, 11]\n",
      "[1, 1, 2, 3, 4, 5, 6, 7, 8, 9, 0, 2, 1]\n"
     ]
    }
   ],
   "source": [
    "l = [1, 2, 3, 4, 5, 6, 7]\n",
    "print(len(l))\n",
    "l[1:] = [10, 11]\n",
    "print(len(l))\n",
    "print(l)\n",
    "l[1:5] = [1, 2, 3, 4, 5, 6, 7, 8, 9, 0, 2, 1]\n",
    "print(l)"
   ]
  },
  {
   "cell_type": "code",
   "execution_count": 71,
   "metadata": {},
   "outputs": [
    {
     "name": "stdout",
     "output_type": "stream",
     "text": [
      "[1, 2, 3, 4, 2, 'aaa', 'never']\n",
      "[1, 2, 3, 1, 2, 3]\n",
      "[1, 2, 3]\n",
      "[1, 2, 3]\n"
     ]
    }
   ],
   "source": [
    "l = [1, 2, 3]\n",
    "print(l + [4] + [2, \"aaa\", \"never\"])\n",
    "print(l * 2)\n",
    "print(l)\n",
    "print(l)"
   ]
  },
  {
   "cell_type": "code",
   "execution_count": 67,
   "metadata": {},
   "outputs": [
    {
     "name": "stdout",
     "output_type": "stream",
     "text": [
      "[4]\n"
     ]
    }
   ],
   "source": [
    "l += [4]\n",
    "print(l)"
   ]
  },
  {
   "cell_type": "code",
   "execution_count": 72,
   "metadata": {},
   "outputs": [
    {
     "name": "stdout",
     "output_type": "stream",
     "text": [
      "[3, 2, 1, 3, 2, 1, 3, 2, 1, 3, 2, 1, 3, 2, 1]\n"
     ]
    }
   ],
   "source": [
    "l *= 5\n",
    "print(l[-1::-1])"
   ]
  },
  {
   "cell_type": "code",
   "execution_count": 73,
   "metadata": {},
   "outputs": [
    {
     "name": "stdout",
     "output_type": "stream",
     "text": [
      "True\n"
     ]
    }
   ],
   "source": [
    "l = [1, 2, 3, 4, 5]\n",
    "for i in l:\n",
    "    if i == 3:\n",
    "        print(True)\n",
    "        break\n",
    "else:\n",
    "    print(False)"
   ]
  },
  {
   "cell_type": "code",
   "execution_count": 88,
   "metadata": {},
   "outputs": [
    {
     "name": "stdout",
     "output_type": "stream",
     "text": [
      "[1, 2, 3, 4, 5, 6, [2, 5, 6, 8, 5, 4], [2, 5, 6, 8, 5, 4]]\n"
     ]
    }
   ],
   "source": [
    "l = [1, 2, 3, 4, 5, 6]\n",
    "l2 = [2, 5, 6, 8, 5, 4]\n",
    "l.append(l2)\n",
    "l.insert(len(l), l2)\n",
    "print(l)"
   ]
  },
  {
   "cell_type": "code",
   "execution_count": 90,
   "metadata": {},
   "outputs": [
    {
     "name": "stdout",
     "output_type": "stream",
     "text": [
      "['b', 'f', 'd', 1]\n"
     ]
    }
   ],
   "source": [
    "l = [\"a\", \"a\", \"a\", \"b\", \"f\", \"d\", \"a\", \"a\", 1]\n",
    "while \"a\" in l:\n",
    "    l.remove(\"a\")\n",
    "print(l)"
   ]
  },
  {
   "cell_type": "code",
   "execution_count": 92,
   "metadata": {},
   "outputs": [
    {
     "name": "stdout",
     "output_type": "stream",
     "text": [
      "1\n"
     ]
    }
   ],
   "source": [
    "#2005\n",
    "ary = input().split()\n",
    "v = input()\n",
    "for i in range(len(ary)):\n",
    "    if ary[i] == v:\n",
    "        print(i)"
   ]
  },
  {
   "cell_type": "code",
   "execution_count": 95,
   "metadata": {},
   "outputs": [
    {
     "name": "stdout",
     "output_type": "stream",
     "text": [
      "YES\n",
      "NO\n"
     ]
    }
   ],
   "source": [
    "#2009\n",
    "ary = input().split()\n",
    "k = int(input())\n",
    "for i in range(0, k):\n",
    "    if input() in ary:\n",
    "        print(\"YES\")\n",
    "    else:\n",
    "        print(\"NO\")"
   ]
  },
  {
   "cell_type": "code",
   "execution_count": 102,
   "metadata": {},
   "outputs": [
    {
     "name": "stdout",
     "output_type": "stream",
     "text": [
      "[100.0, 75.69, 60.84, 98.01, 22.09, 34.81, 15.594601000000003]\n"
     ]
    }
   ],
   "source": [
    "grade = [100, 87, 78, 99, 47, 59, 39.49]\n",
    "for i, score in enumerate(grade):\n",
    "    grade[i] = (score ** 2) / 100\n",
    "print(grade)"
   ]
  },
  {
   "cell_type": "code",
   "execution_count": 103,
   "metadata": {},
   "outputs": [
    {
     "name": "stdout",
     "output_type": "stream",
     "text": [
      "num1= 5 num2= 10\n",
      "num1=5 num2=10\n",
      "num1=5 num2=10\n"
     ]
    }
   ],
   "source": [
    "num1 = 5\n",
    "num2 = 10\n",
    "print(\"num1=\", num1, \"num2=\", num2)\n",
    "print(f\"num1={num1} num2={num2}\")\n",
    "print(f\"{num1=} {num2=}\")\n"
   ]
  },
  {
   "cell_type": "code",
   "execution_count": 104,
   "metadata": {},
   "outputs": [
    {
     "name": "stdout",
     "output_type": "stream",
     "text": [
      "1*1=1 1*2=2 1*3=3 1*4=4 1*5=5 1*6=6 1*7=7 1*9=9 \n",
      "2*1=2 2*2=4 2*3=6 2*4=8 2*5=10 2*6=12 2*7=14 2*9=18 \n",
      "3*1=3 3*2=6 3*3=9 3*4=12 3*5=15 3*6=18 3*7=21 3*9=27 \n",
      "4*1=4 4*2=8 4*3=12 4*4=16 4*5=20 4*6=24 4*7=28 4*9=36 \n",
      "5*1=5 5*2=10 5*3=15 5*4=20 5*5=25 5*6=30 5*7=35 5*9=45 \n",
      "6*1=6 6*2=12 6*3=18 6*4=24 6*5=30 6*6=36 6*7=42 6*9=54 \n",
      "7*1=7 7*2=14 7*3=21 7*4=28 7*5=35 7*6=42 7*7=49 7*9=63 \n",
      "9*1=9 9*2=18 9*3=27 9*4=36 9*5=45 9*6=54 9*7=63 9*9=81 \n"
     ]
    }
   ],
   "source": [
    "#3089\n",
    "n = int(input())\n",
    "for i in range(1, 9 + 1):\n",
    "    if i == n:\n",
    "        continue\n",
    "    for j in range(1, 9 + 1):\n",
    "        if j != n:\n",
    "            print(f\"{i}*{j}={i*j}\", end = \" \")\n",
    "    print(\"\")"
   ]
  },
  {
   "cell_type": "code",
   "execution_count": 108,
   "metadata": {},
   "outputs": [
    {
     "name": "stdout",
     "output_type": "stream",
     "text": [
      "a=[1, 3, 2, 4]\n",
      "b=[1, 3, 2, 4]\n",
      "id(a)=2538647743488\n",
      "id(b)=2538647743488\n"
     ]
    }
   ],
   "source": [
    "a = [1, 0, 2, 4]\n",
    "b = a\n",
    "\n",
    "a[1] = 3\n",
    "print(f\"{a=}\")\n",
    "print(f\"{b=}\")\n",
    "print(f\"{id(a)=}\")\n",
    "print(f\"{id(b)=}\")"
   ]
  },
  {
   "cell_type": "code",
   "execution_count": 120,
   "metadata": {},
   "outputs": [
    {
     "name": "stdout",
     "output_type": "stream",
     "text": [
      "HeIlo\n",
      "HeIlo\n",
      "Hello --> HeIlo\n"
     ]
    }
   ],
   "source": [
    "string = \"Hello\"\n",
    "string2 = string[:2] + \"I\" + string[3:]\n",
    "print(string2)\n",
    "string = string[:2] + \"I\" + string[3:]\n",
    "print(string)\n",
    "#-->\n",
    "print(\"Hello\", end = \" \")\n",
    "print(\"-->\", end = \" \")\n",
    "string = \"Hello\"\n",
    "string = string[:2] + \"I\" + string[3:]\n",
    "print(string)"
   ]
  },
  {
   "cell_type": "code",
   "execution_count": 122,
   "metadata": {},
   "outputs": [
    {
     "name": "stdout",
     "output_type": "stream",
     "text": [
      "You are good at coding. You are smart.\n"
     ]
    }
   ],
   "source": [
    "string = 'I is good at coding. I is smart.'\n",
    "print(string.replace(\"is\", \"are\").replace(\"I\", \"You\"))"
   ]
  },
  {
   "cell_type": "code",
   "execution_count": 141,
   "metadata": {},
   "outputs": [
    {
     "name": "stdout",
     "output_type": "stream",
     "text": [
      "4\n"
     ]
    }
   ],
   "source": [
    "string = \"hadafjimehanmkfdhaniahade\".lower()\n",
    "start = 0\n",
    "count = 0\n",
    "index = 0\n",
    "while True:\n",
    "    index = string.find(\"ha\", start)\n",
    "    if (index != -1):\n",
    "        start = index + 2\n",
    "        count += 1\n",
    "    else:\n",
    "        break\n",
    "print(count)"
   ]
  },
  {
   "cell_type": "code",
   "execution_count": 157,
   "metadata": {},
   "outputs": [
    {
     "name": "stdout",
     "output_type": "stream",
     "text": [
      "4\n"
     ]
    }
   ],
   "source": [
    "#3046\n",
    "count = 0\n",
    "name = input().lower()\n",
    "article = input().lower().replace(\",\", \" \").replace(\".\", \" \").split()\n",
    "for item in article:\n",
    "    if name == item:\n",
    "        count += 1\n",
    "\n",
    "print(count)"
   ]
  },
  {
   "cell_type": "code",
   "execution_count": 154,
   "metadata": {},
   "outputs": [
    {
     "name": "stdout",
     "output_type": "stream",
     "text": [
      "我熬夜做簡報，累死了。熬夜真的會變智障，，，我該去睡覺。\n"
     ]
    }
   ],
   "source": [
    "string = \"我..熬夜...做..簡報.. 累死..了...XD熬夜..真的..會...變智障   我該..去睡覺XD\"\n",
    "correct = string.replace(\".\", \"\").replace(\" \", \"，\").replace(\"XD\", \"。\")\n",
    "print(correct)"
   ]
  },
  {
   "cell_type": "code",
   "execution_count": 164,
   "metadata": {},
   "outputs": [
    {
     "name": "stdout",
     "output_type": "stream",
     "text": [
      "Za Warudo!!\n",
      "Za Warudo!!\n",
      "Za Warudo!!\n",
      "Za Warudo!!\n",
      "Za Warudo!!\n",
      "Za Warudo!!\n"
     ]
    }
   ],
   "source": [
    "#3109\n",
    "n = int(input())\n",
    "for i in range(0, n):\n",
    "    string = input().lower().\n",
    "    if string[::-1] == string and :\n",
    "        print(\"Za Warudo!!\")\n",
    "    else:\n",
    "        print(\"ROAD ROLLA DA!!\")"
   ]
  }
 ],
 "metadata": {
  "kernelspec": {
   "display_name": "Python 3.10.6 64-bit",
   "language": "python",
   "name": "python3"
  },
  "language_info": {
   "codemirror_mode": {
    "name": "ipython",
    "version": 3
   },
   "file_extension": ".py",
   "mimetype": "text/x-python",
   "name": "python",
   "nbconvert_exporter": "python",
   "pygments_lexer": "ipython3",
   "version": "3.10.6"
  },
  "orig_nbformat": 4,
  "vscode": {
   "interpreter": {
    "hash": "afb734500600fd355917ca529030176ea0ca205570884b88f2f6f7d791fd3fbe"
   }
  }
 },
 "nbformat": 4,
 "nbformat_minor": 2
}
