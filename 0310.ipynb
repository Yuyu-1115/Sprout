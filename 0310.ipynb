{
 "cells": [
  {
   "cell_type": "code",
   "execution_count": 1,
   "metadata": {},
   "outputs": [
    {
     "name": "stdout",
     "output_type": "stream",
     "text": [
      "60\n"
     ]
    }
   ],
   "source": [
    "#3010\n",
    "print(abs(int(input()) - int(input())))"
   ]
  },
  {
   "cell_type": "code",
   "execution_count": 9,
   "metadata": {},
   "outputs": [
    {
     "name": "stdout",
     "output_type": "stream",
     "text": [
      "3 1 1\n"
     ]
    }
   ],
   "source": [
    "#3011\n",
    "n1, n2, n3 = int(input()), int(input()), int(input())\n",
    "if n2 < n3:\n",
    "    n2, n3 = n3, n2\n",
    "if n1 < n2:\n",
    "    n1, n2 = n2, n1\n",
    "if n2 < n3:\n",
    "    n2, n3 = n3, n2\n",
    "print(n1, n2, n3)\n",
    "\n"
   ]
  },
  {
   "cell_type": "code",
   "execution_count": 20,
   "metadata": {},
   "outputs": [
    {
     "name": "stdout",
     "output_type": "stream",
     "text": [
      "Maow oil enough\n"
     ]
    }
   ],
   "source": [
    "#3401\n",
    "a, b = map(int, input().split(\" \"))\n",
    "sum_a = a * (a + 1) / 2\n",
    "if (sum_a <= b):\n",
    "    print(\"Maow oil enough\")\n",
    "else:\n",
    "    print(\"Maow oil not enough\")"
   ]
  },
  {
   "cell_type": "code",
   "execution_count": 25,
   "metadata": {},
   "outputs": [
    {
     "name": "stdout",
     "output_type": "stream",
     "text": [
      "2222\n"
     ]
    }
   ],
   "source": [
    "#3402\n",
    "earn = int(input())\n",
    "\n",
    "if earn < 1:\n",
    "    print(-2)\n",
    "elif earn < 1000:\n",
    "    print(int(0.1 * earn))\n",
    "elif earn < 2000:\n",
    "    print(int(0.2 * earn))\n",
    "elif earn < 6000:\n",
    "    print(int(0.4 * earn))\n",
    "elif earn < 10000:\n",
    "    print(int(0.6 * earn))\n",
    "else:\n",
    "    print(-1)"
   ]
  },
  {
   "cell_type": "code",
   "execution_count": 29,
   "metadata": {},
   "outputs": [
    {
     "name": "stdout",
     "output_type": "stream",
     "text": [
      "\n",
      "*\n",
      "**\n",
      "***\n"
     ]
    }
   ],
   "source": [
    "#3020\n",
    "n = int(input())\n",
    "for i in range(1, n + 1):\n",
    "    print(\"*\" * i)"
   ]
  },
  {
   "cell_type": "code",
   "execution_count": 30,
   "metadata": {},
   "outputs": [
    {
     "name": "stdout",
     "output_type": "stream",
     "text": [
      "1\n",
      "2\n",
      "3\n",
      "4\n",
      "6\n",
      "7\n",
      "8\n",
      "9\n",
      "11\n"
     ]
    }
   ],
   "source": [
    "#3088\n",
    "n = int(input())\n",
    "for i in range(1, n + 1):\n",
    "    if i % 5 != 0:\n",
    "        print(i)"
   ]
  },
  {
   "cell_type": "code",
   "execution_count": 37,
   "metadata": {},
   "outputs": [
    {
     "name": "stdout",
     "output_type": "stream",
     "text": [
      "2\n"
     ]
    }
   ],
   "source": [
    "#3023\n",
    "n = int(input())\n",
    "count = 0\n",
    "while (n != 1):\n",
    "    if n % 2 == 0:\n",
    "        n /= 2\n",
    "    else:\n",
    "        n = 3 * n + 1\n",
    "    count += 1\n",
    "print(count)"
   ]
  },
  {
   "cell_type": "code",
   "execution_count": 90,
   "metadata": {},
   "outputs": [
    {
     "name": "stdout",
     "output_type": "stream",
     "text": [
      "1*1=1 1*2=2 1*3=3 1*4=4 1*5=5 1*6=6 1*7=7 1*8=8 1*9=9 \n",
      "2*1=2 2*2=4 2*3=6 2*4=8 2*5=10 2*6=12 2*7=14 2*8=16 2*9=18 \n",
      "3*1=3 3*2=6 3*3=9 3*4=12 3*5=15 3*6=18 3*7=21 3*8=24 3*9=27 \n",
      "4*1=4 4*2=8 4*3=12 4*4=16 4*5=20 4*6=24 4*7=28 4*8=32 4*9=36 \n",
      "5*1=5 5*2=10 5*3=15 5*4=20 5*5=25 5*6=30 5*7=35 5*8=40 5*9=45 \n",
      "6*1=6 6*2=12 6*3=18 6*4=24 6*5=30 6*6=36 6*7=42 6*8=48 6*9=54 \n",
      "7*1=7 7*2=14 7*3=21 7*4=28 7*5=35 7*6=42 7*7=49 7*8=56 7*9=63 \n",
      "8*1=8 8*2=16 8*3=24 8*4=32 8*5=40 8*6=48 8*7=56 8*8=64 8*9=72 \n",
      "9*1=9 9*2=18 9*3=27 9*4=36 9*5=45 9*6=54 9*7=63 9*8=72 9*9=81 \n"
     ]
    }
   ],
   "source": [
    "#3089\n",
    "n = int(input())\n",
    "for i in range(1, 9 + 1):\n",
    "    if i == n:\n",
    "        continue\n",
    "    for j in range(1, 9 + 1):\n",
    "        if j != n:\n",
    "            print(f\"{i}*{j}={i*j}\", end = \" \")\n",
    "    print(\"\")"
   ]
  },
  {
   "cell_type": "code",
   "execution_count": 76,
   "metadata": {},
   "outputs": [
    {
     "name": "stdout",
     "output_type": "stream",
     "text": [
      "2 1\n",
      "5 2\n"
     ]
    }
   ],
   "source": [
    "#3016\n",
    "import math\n",
    "n = int(input())\n",
    "div, i = 2, 3\n",
    "flag = True\n",
    "count = 0\n",
    "while n != 1:\n",
    "    #detemine if the divisor is a prime number\n",
    "    while i < math.sqrt(div):\n",
    "        if div % i == 0:\n",
    "            flag = False\n",
    "            break\n",
    "        else:\n",
    "            i += 2\n",
    "    i = 3\n",
    "    #find the power of divisor\n",
    "    while (n % div) == 0:\n",
    "        n //= div\n",
    "        count += 1\n",
    "    if count > 0:\n",
    "        print(div, count)\n",
    "        count = 0\n",
    "    div += 1 if div == 2 else 2"
   ]
  },
  {
   "cell_type": "code",
   "execution_count": 61,
   "metadata": {},
   "outputs": [
    {
     "name": "stdout",
     "output_type": "stream",
     "text": [
      "Yes\n"
     ]
    }
   ],
   "source": [
    "#3018\n",
    "import math\n",
    "n = int(input())\n",
    "flag = True\n",
    "i = 3\n",
    "while i < math.sqrt(n):\n",
    "    if n % 2 == 0:\n",
    "        flag = False\n",
    "        break\n",
    "    if n % i == 0:\n",
    "        flag = False\n",
    "        break\n",
    "    else:\n",
    "        i += 2\n",
    "if flag:\n",
    "    print(\"Yes\")\n",
    "else:\n",
    "    print(\"Rilak87\")"
   ]
  },
  {
   "cell_type": "code",
   "execution_count": 65,
   "metadata": {},
   "outputs": [
    {
     "name": "stdout",
     "output_type": "stream",
     "text": [
      "   *\n",
      "  ***\n",
      " *****\n",
      "*******\n"
     ]
    }
   ],
   "source": [
    "#3019\n",
    "n = int(input())\n",
    "for i in range(1, n + 1):\n",
    "    print(\" \" * (n - i) + \"*\" * (2 * i - 1))"
   ]
  },
  {
   "cell_type": "code",
   "execution_count": 80,
   "metadata": {},
   "outputs": [
    {
     "name": "stdout",
     "output_type": "stream",
     "text": [
      "5\n",
      "5\n",
      "1\n",
      "101\n",
      "1\n"
     ]
    }
   ],
   "source": [
    "#3021\n",
    "n = int(input())\n",
    "for i in range(0, n):\n",
    "    a, b = input().split()\n",
    "    a = int(a)\n",
    "    b = int(b)\n",
    "    while a!= 0 and b != 0:\n",
    "        a, b = b, a % b\n",
    "    print(a + b)\n",
    "\n"
   ]
  }
 ],
 "metadata": {
  "kernelspec": {
   "display_name": "Python 3.10.6 64-bit",
   "language": "python",
   "name": "python3"
  },
  "language_info": {
   "codemirror_mode": {
    "name": "ipython",
    "version": 3
   },
   "file_extension": ".py",
   "mimetype": "text/x-python",
   "name": "python",
   "nbconvert_exporter": "python",
   "pygments_lexer": "ipython3",
   "version": "3.10.6"
  },
  "orig_nbformat": 4,
  "vscode": {
   "interpreter": {
    "hash": "afb734500600fd355917ca529030176ea0ca205570884b88f2f6f7d791fd3fbe"
   }
  }
 },
 "nbformat": 4,
 "nbformat_minor": 2
}
