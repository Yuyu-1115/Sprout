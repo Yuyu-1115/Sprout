{
 "cells": [
  {
   "cell_type": "code",
   "execution_count": 13,
   "metadata": {},
   "outputs": [
    {
     "name": "stdout",
     "output_type": "stream",
     "text": [
      "241\n"
     ]
    }
   ],
   "source": [
    "#3051\n",
    "def joke_str(ary):\n",
    "    print(\"\".join(ary))\n",
    "\n",
    "def joke_num(ary):\n",
    "    output = 0\n",
    "    for item in ary:\n",
    "        output += item\n",
    "    print(output)\n",
    "\n",
    "input_list = input().split()\n",
    "if \"str\" in input_list:\n",
    "    joke_str(input_list[:-1])\n",
    "else:\n",
    "    joke_num(input_list[:-1])"
   ]
  },
  {
   "cell_type": "code",
   "execution_count": 12,
   "metadata": {},
   "outputs": [
    {
     "name": "stdout",
     "output_type": "stream",
     "text": [
      "1"
     ]
    }
   ],
   "source": [
    "#3005\n",
    "def conversion(value):\n",
    "    return int(value[0]) * int(value[1])\n",
    "\n",
    "n = int(input())\n",
    "car = input().split()\n",
    "smallest_index = 0\n",
    "smallest_price = conversion(car)\n",
    "for i in range(1, n):\n",
    "    price = conversion(input().split())\n",
    "    if price < smallest_price:\n",
    "        smallest_index = i\n",
    "        smallest_price = price\n",
    "print(smallest_index, end = \"\")"
   ]
  },
  {
   "cell_type": "code",
   "execution_count": 20,
   "metadata": {},
   "outputs": [
    {
     "name": "stdout",
     "output_type": "stream",
     "text": [
      "20100\n"
     ]
    }
   ],
   "source": [
    "def find_sum(n):\n",
    "    if n == 1:\n",
    "        return 1\n",
    "    return n + find_sum(n - 1)\n",
    "print(find_sum(int(input())))"
   ]
  },
  {
   "cell_type": "code",
   "execution_count": 5,
   "metadata": {},
   "outputs": [
    {
     "name": "stdout",
     "output_type": "stream",
     "text": [
      "[['0', '0', '0', '0', '0'], ['0', 'S', '1', '1', 'X'], ['0', '0', '0', '0', '0'], ['0', '0', '0', 'E', '0'], ['0', '0', '0', '0', '0']]\n"
     ]
    }
   ],
   "source": [
    "#3403\n",
    "op = 1\n",
    "n = int(input())\n",
    "distance = 0\n",
    "route = list()\n",
    "for i in range(0, n):\n",
    "    route.append(list())\n",
    "    ary = input()\n",
    "    for j in range(0, n):\n",
    "        if ary[j] == \"S\":\n",
    "            start = [i, j]\n",
    "        elif ary[j] == \"E\":\n",
    "            goal = [i, j]\n",
    "        route[i].append(ary[j])\n",
    "loc = [start[0], start[1]]\n",
    "while True:\n",
    "    if op == \"E\":\n",
    "        print(distance + 1)\n",
    "        break\n",
    "    elif op == 0:\n",
    "        pass\n",
    "    elif op == 1:\n",
    "        pass\n",
    "    elif op == 2:\n",
    "        pass\n",
    "    elif op == 3:\n",
    "        pass\n",
    "    elif op == 4:\n",
    "        pass\n",
    "    "
   ]
  },
  {
   "cell_type": "code",
   "execution_count": 9,
   "metadata": {},
   "outputs": [
    {
     "name": "stdout",
     "output_type": "stream",
     "text": [
      "191.3 765.2\n"
     ]
    }
   ],
   "source": [
    "#We have some Pokemons now!\n",
    "class Pokemon():\n",
    "    weight_total = 0\n",
    "    weight_average = 0\n",
    "    amount = 0\n",
    "    def __init__(self, number, weight, attribute) -> None:\n",
    "        self.number = number\n",
    "        self.weight = weight\n",
    "        self.attribute = attribute\n",
    "        Pokemon.weight_total += weight\n",
    "        Pokemon.amount += 1\n",
    "        Pokemon.weight_average = Pokemon.weight_total / Pokemon.amount\n",
    "\n",
    "kabigon = Pokemon(143, 460, [\"Normal\"])\n",
    "tetsunoibara = Pokemon(995, 303, [\"Electric\", \"Rock\"])\n",
    "mimikkyu = Pokemon(778, 0.7, [\"Fairy\", \"Ghost\"])\n",
    "mokuroh = Pokemon(722, 1.5, [\"Flying\", \"Grass\"])\n",
    "\n",
    "print(Pokemon.weight_average, Pokemon.weight_total)"
   ]
  },
  {
   "cell_type": "code",
   "execution_count": 13,
   "metadata": {},
   "outputs": [
    {
     "name": "stdout",
     "output_type": "stream",
     "text": [
      "191.3 765.2\n",
      "True\n",
      "False\n",
      "193.425 773.7\n"
     ]
    }
   ],
   "source": [
    "#We have some Pokemons now!\n",
    "class Pokemon():\n",
    "    weight_total = 0\n",
    "    weight_average = 0\n",
    "    amount = 0\n",
    "    def __init__(self, number, weight, attribute) -> None:\n",
    "        self.number = number\n",
    "        self.weight = weight\n",
    "        self.attribute = attribute\n",
    "        Pokemon.weight_total += weight\n",
    "        Pokemon.amount += 1\n",
    "        Pokemon.weight_average = Pokemon.weight_total / Pokemon.amount\n",
    "    def isType(self, type: str) -> bool:\n",
    "        return type in self.attribute\n",
    "    def modifyWeight(self, num: int) -> None:\n",
    "        Pokemon.weight_total += (num - self.weight)\n",
    "        Pokemon.weight_average = Pokemon.weight_total / Pokemon.amount\n",
    "        self.weight = num\n",
    "\n",
    "\n",
    "kabigon = Pokemon(143, 460, [\"Normal\"])\n",
    "tetsunoibara = Pokemon(995, 303, [\"Electric\", \"Rock\"])\n",
    "mimikkyu = Pokemon(778, 0.7, [\"Fairy\", \"Ghost\"])\n",
    "mokuroh = Pokemon(722, 1.5, [\"Flying\", \"Grass\"])\n",
    "\n",
    "print(Pokemon.weight_average, Pokemon.weight_total)\n",
    "\n",
    "mokuroh.modifyWeight(10)\n",
    "print(mokuroh.isType(\"Grass\"))\n",
    "print(mokuroh.isType(\"Ghost\"))\n",
    "\n",
    "print(Pokemon.weight_average, Pokemon.weight_total)"
   ]
  },
  {
   "cell_type": "code",
   "execution_count": 17,
   "metadata": {},
   "outputs": [
    {
     "name": "stdout",
     "output_type": "stream",
     "text": [
      "Tatsuki\n",
      "Rikki\n"
     ]
    }
   ],
   "source": [
    "class Profile():\n",
    "    def __init__(self, name, assets):\n",
    "        self.__name = name\n",
    "        self.__assets = assets # 你的財產\n",
    "    def getAssets(self):    \n",
    "        return self.__assets\n",
    "    def deposit(self, num):\n",
    "        self.__assets += num\n",
    "    def getName(self):\n",
    "        return self.__name\n",
    "    def modifyName(self, name):\n",
    "        self.__name = name\n",
    "\n",
    "A = Profile(\"Tatsuki\", 100)\n",
    "print(A.getName())\n",
    "A.modifyName(\"Rikki\")\n",
    "print(A.getName())"
   ]
  }
 ],
 "metadata": {
  "kernelspec": {
   "display_name": "Python 3.11.4 ('base')",
   "language": "python",
   "name": "python3"
  },
  "language_info": {
   "codemirror_mode": {
    "name": "ipython",
    "version": 3
   },
   "file_extension": ".py",
   "mimetype": "text/x-python",
   "name": "python",
   "nbconvert_exporter": "python",
   "pygments_lexer": "ipython3",
   "version": "3.11.4"
  },
  "orig_nbformat": 4,
  "vscode": {
   "interpreter": {
    "hash": "3c06e3e46abf38078fe4dac36a0085ec2b134ebbd73dd076183d243eeca6918f"
   }
  }
 },
 "nbformat": 4,
 "nbformat_minor": 2
}
