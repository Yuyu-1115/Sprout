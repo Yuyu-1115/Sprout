{
 "cells": [
  {
   "cell_type": "code",
   "execution_count": 3,
   "metadata": {},
   "outputs": [
    {
     "name": "stdout",
     "output_type": "stream",
     "text": [
      "114514\n"
     ]
    }
   ],
   "source": [
    "print(\"114514\")"
   ]
  },
  {
   "cell_type": "code",
   "execution_count": 8,
   "metadata": {},
   "outputs": [
    {
     "name": "stdout",
     "output_type": "stream",
     "text": [
      "Mario\n"
     ]
    }
   ],
   "source": [
    "#It's me\n",
    "print(\"Mario\")"
   ]
  },
  {
   "cell_type": "code",
   "execution_count": 5,
   "metadata": {},
   "outputs": [
    {
     "name": "stdout",
     "output_type": "stream",
     "text": [
      "\n",
      "「這裡也都沒有 那裡也都沒有」\n",
      "                ——多少錢《偶像》\n",
      "\n"
     ]
    }
   ],
   "source": [
    "print(\"\"\"\n",
    "「這裡也都沒有 那裡也都沒有」\n",
    "                ——多少錢＜偶像＞\n",
    "\"\"\")"
   ]
  },
  {
   "cell_type": "code",
   "execution_count": 15,
   "metadata": {},
   "outputs": [
    {
     "name": "stdout",
     "output_type": "stream",
     "text": [
      "抽牌準備進主要有事嗎? 增援抓01有事嗎? 01通召有事嗎? 變水閃，進EP抓啟動等死"
     ]
    }
   ],
   "source": [
    "print(\"抽牌準備進主要\", \"增援抓01\", \"01通召\", \"變水閃，\",  sep = \"有事嗎? \", end= \"進EP抓啟動等死\")\n",
    "#不要+400"
   ]
  },
  {
   "cell_type": "code",
   "execution_count": 21,
   "metadata": {},
   "outputs": [
    {
     "name": "stdout",
     "output_type": "stream",
     "text": [
      "24歲，是學生\n"
     ]
    }
   ],
   "source": [
    "age = 20\n",
    "age += 4\n",
    "profession = \"學生\"\n",
    "print(age, \"歲，\", \"是\", profession, sep = \"\")"
   ]
  },
  {
   "cell_type": "code",
   "execution_count": 24,
   "metadata": {},
   "outputs": [
    {
     "name": "stdout",
     "output_type": "stream",
     "text": [
      "-inf\n"
     ]
    }
   ],
   "source": [
    "print(-2.2e308)"
   ]
  },
  {
   "cell_type": "code",
   "execution_count": 33,
   "metadata": {},
   "outputs": [
    {
     "name": "stdout",
     "output_type": "stream",
     "text": [
      "1.8333333333333333 50\n"
     ]
    }
   ],
   "source": [
    "time = int(input())\n",
    "print(int(time / 60), time % 60)\n",
    "\n"
   ]
  }
 ],
 "metadata": {
  "kernelspec": {
   "display_name": "Python 3.10.6 64-bit",
   "language": "python",
   "name": "python3"
  },
  "language_info": {
   "codemirror_mode": {
    "name": "ipython",
    "version": 3
   },
   "file_extension": ".py",
   "mimetype": "text/x-python",
   "name": "python",
   "nbconvert_exporter": "python",
   "pygments_lexer": "ipython3",
   "version": "3.10.6"
  },
  "orig_nbformat": 4,
  "vscode": {
   "interpreter": {
    "hash": "afb734500600fd355917ca529030176ea0ca205570884b88f2f6f7d791fd3fbe"
   }
  }
 },
 "nbformat": 4,
 "nbformat_minor": 2
}
