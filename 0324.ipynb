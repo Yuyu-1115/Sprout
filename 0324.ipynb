{
 "cells": [
  {
   "cell_type": "code",
   "execution_count": 4,
   "metadata": {},
   "outputs": [
    {
     "name": "stdout",
     "output_type": "stream",
     "text": [
      "gg\n",
      "12\n"
     ]
    }
   ],
   "source": [
    "#3055\n",
    "score = dict()\n",
    "while True:\n",
    "    insert = input().split()\n",
    "    if insert[0] == \"DATA_INPUT_END\":\n",
    "        break\n",
    "    score[insert[0]] = int(insert[1])\n",
    "while True:\n",
    "    insert = input()\n",
    "    if insert == \"END\":\n",
    "        break\n",
    "    if score.get(insert, -1) == -1:\n",
    "        print(\"gg\")\n",
    "    else:\n",
    "        print(score[insert])"
   ]
  },
  {
   "cell_type": "code",
   "execution_count": 39,
   "metadata": {},
   "outputs": [
    {
     "name": "stdout",
     "output_type": "stream",
     "text": [
      "PW43T\n"
     ]
    }
   ],
   "source": [
    "#3052\n",
    "index = dict()\n",
    "n = int(input())\n",
    "for i in range(0, n):\n",
    "    insert = input().split()\n",
    "    if insert[1] == \"AC\":\n",
    "        if index.get(insert[0], -1) == -1:\n",
    "            index[insert[0]] = 1\n",
    "        else:\n",
    "            index[insert[0]] += 1\n",
    "rank = list()\n",
    "for item in index.items():\n",
    "    rank.append((item[1], item[0]))\n",
    "rank.sort()\n",
    "rank.reverse()\n",
    "print(rank[0][1])\n",
    "\n",
    "\n"
   ]
  },
  {
   "cell_type": "code",
   "execution_count": 23,
   "metadata": {},
   "outputs": [
    {
     "name": "stdout",
     "output_type": "stream",
     "text": [
      "0\n",
      "bearo 2\n",
      "bearrrro 1\n",
      "bearrrrrro 1\n",
      "3\n",
      "bearo 2\n",
      "bearrrro 1\n",
      "2\n",
      "bearo 2\n",
      "bearrrro 1\n",
      "bearrrrro 1\n",
      "0\n"
     ]
    }
   ],
   "source": [
    "#3035\n",
    "n = int(input())\n",
    "aliases = dict()\n",
    "for i in range(n):\n",
    "    operation = input().split()\n",
    "    if operation[0] == \"1\":\n",
    "        if aliases.get(operation[1], -1) == -1:\n",
    "            aliases[operation[1]] = 1\n",
    "        else:\n",
    "            aliases[operation[1]] += 1\n",
    "    elif operation[0] == \"2\":\n",
    "        aliases[operation[1]] -= 1\n",
    "        if aliases[operation[1]] == 0:\n",
    "            aliases.pop(operation[1])\n",
    "    elif operation[0] == \"3\":\n",
    "        ans = list()\n",
    "        for item in aliases.items():\n",
    "            ans.append(item)\n",
    "        ans.sort()\n",
    "        for item in ans:\n",
    "            print(item[0], item[1])\n",
    "    else:\n",
    "        k = 0\n",
    "        for key in aliases:\n",
    "            k += 1\n",
    "        print(k)"
   ]
  },
  {
   "cell_type": "code",
   "execution_count": 44,
   "metadata": {},
   "outputs": [
    {
     "name": "stdout",
     "output_type": "stream",
     "text": [
      "Success\n",
      "Failed\n",
      "Success\n",
      "Failed\n",
      "Success\n",
      "Success\n",
      "Success\n",
      "Success\n",
      "Failed\n",
      "b1\n",
      "a1\n",
      "a4\n",
      "a44\n",
      "Failed\n",
      "Success\n",
      "a1 b11\n",
      "a4 b4\n",
      "a44 b4\n",
      "3\n",
      "0\n",
      "Failed\n"
     ]
    }
   ],
   "source": [
    "#3036\n",
    "n = int(input())\n",
    "dictionary = dict()\n",
    "for _ in range(0, n):\n",
    "    op = input().split()\n",
    "    if op[0] == \"1\":\n",
    "        if dictionary.get(op[1], -1) != -1:\n",
    "            print(\"Failed\")\n",
    "        else:\n",
    "            dictionary[op[1]] = op[2]\n",
    "            print(\"Success\")\n",
    "    elif op[0] == \"2\":\n",
    "        if dictionary.get(op[1], -1) == -1:\n",
    "            print(\"Failed\")\n",
    "        else:\n",
    "            dictionary.pop(op[1])\n",
    "            print(\"Success\")\n",
    "    elif op[0] == \"3\":\n",
    "        if dictionary == {}:\n",
    "            print(\"Failed\")\n",
    "        else:\n",
    "            dictionary.popitem()\n",
    "            print(\"Success\")\n",
    "    elif op[0] == \"4\":\n",
    "        if dictionary.get(op[1], -1) == -1:\n",
    "            print(\"Failed\")\n",
    "        else:\n",
    "            print(dictionary[op[1]])\n",
    "    elif op[0] == \"5\":\n",
    "        ans = list()\n",
    "        flag = False\n",
    "        for item in dictionary.items():\n",
    "            if item[1] == op[1]:\n",
    "                ans.append(item[0])\n",
    "                flag = True\n",
    "        if flag:\n",
    "            ans.sort()\n",
    "            for item in ans:\n",
    "                print(item)\n",
    "        else:\n",
    "            print(\"None\")\n",
    "    elif op[0] == \"6\":\n",
    "        if dictionary.get(op[1], -1) == -1:\n",
    "            print(\"Failed\")\n",
    "        else:\n",
    "            dictionary[op[1]] = op[2]\n",
    "            print(\"Success\")\n",
    "    elif op[0] == \"7\":\n",
    "        ans = list()\n",
    "        for item in dictionary.items():\n",
    "            ans.append(item)\n",
    "        ans.sort()\n",
    "        for element in ans:\n",
    "            print(element[0], element[1])\n",
    "    elif op[0] == \"8\":\n",
    "        print(len(dictionary))\n",
    "    elif op[0] == \"9\":\n",
    "        dictionary.clear() "
   ]
  },
  {
   "cell_type": "code",
   "execution_count": 49,
   "metadata": {},
   "outputs": [
    {
     "name": "stdout",
     "output_type": "stream",
     "text": [
      "watermelon\n"
     ]
    }
   ],
   "source": [
    "#3054\n",
    "scoreboard = dict()\n",
    "while True:\n",
    "    op = input().split()\n",
    "    if op[0] == \"END\": \n",
    "        break\n",
    "    if op[2] == \"AC\": \n",
    "        if not op[0] in scoreboard:\n",
    "            scoreboard[op[0]] = [[], 1]\n",
    "            scoreboard[op[0]][0].append(op[1])\n",
    "        elif not op[1] in scoreboard[op[0]][0]:\n",
    "            scoreboard[op[0]][0].append(op[1])\n",
    "            scoreboard[op[0]][1] += 1\n",
    "rank = list()\n",
    "for item in scoreboard.items():\n",
    "    rank.append((item[1][1], item[0]))\n",
    "rank.sort()\n",
    "rank.reverse()\n",
    "print(rank[0][1])\n",
    "\n"
   ]
  },
  {
   "cell_type": "code",
   "execution_count": null,
   "metadata": {},
   "outputs": [],
   "source": [
    "#3015\n",
    "grease = dict()\n",
    "fat_i = 0\n",
    "menu = dict()\n",
    "\n",
    "n = int(input())\n",
    "for _ in range(0, n):\n",
    "    ramen = input().split()\n",
    "    menu[ramen[0]] = (ramen[1], ramen[2])\n",
    "    #ramen[1] = grease, ramen[2] = fat_i\n",
    "\n",
    "m = int(input())\n",
    "for _ in range(0, n):\n",
    "    ramen = input()\n",
    "    if not ramen in grease:\n",
    "        grease[ramen] = menu[ramen][0]\n",
    "        fat_i += menu[ramen][1]\n",
    "    else:"
   ]
  }
 ],
 "metadata": {
  "kernelspec": {
   "display_name": "Python 3.10.6 64-bit",
   "language": "python",
   "name": "python3"
  },
  "language_info": {
   "codemirror_mode": {
    "name": "ipython",
    "version": 3
   },
   "file_extension": ".py",
   "mimetype": "text/x-python",
   "name": "python",
   "nbconvert_exporter": "python",
   "pygments_lexer": "ipython3",
   "version": "3.10.6"
  },
  "orig_nbformat": 4,
  "vscode": {
   "interpreter": {
    "hash": "afb734500600fd355917ca529030176ea0ca205570884b88f2f6f7d791fd3fbe"
   }
  }
 },
 "nbformat": 4,
 "nbformat_minor": 2
}
