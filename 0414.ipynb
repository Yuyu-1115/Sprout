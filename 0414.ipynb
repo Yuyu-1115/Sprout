{
 "cells": [
  {
   "cell_type": "code",
   "execution_count": null,
   "metadata": {},
   "outputs": [],
   "source": [
    "#3036\n",
    "n = int(input())\n",
    "dictionary = dict()\n",
    "for _ in range(0, n):\n",
    "    op = input().split()\n",
    "    if op[0] == \"1\":\n",
    "        if dictionary.get(op[1], -1) != -1:\n",
    "            print(\"Failed\")\n",
    "        else:\n",
    "            dictionary[op[1]] = op[2]\n",
    "            print(\"Success\")\n",
    "    elif op[0] == \"2\":\n",
    "        if dictionary.get(op[1], -1) == -1:\n",
    "            print(\"Failed\")\n",
    "        else:\n",
    "            dictionary.pop(op[1])\n",
    "            print(\"Success\")\n",
    "    elif op[0] == \"3\":\n",
    "        if dictionary == {}:\n",
    "            print(\"Failed\")\n",
    "        else:\n",
    "            dictionary.popitem()\n",
    "            print(\"Success\")\n",
    "    elif op[0] == \"4\":\n",
    "        if dictionary.get(op[1], -1) == -1:\n",
    "            print(\"Failed\")\n",
    "        else:\n",
    "            print(dictionary[op[1]])\n",
    "    elif op[0] == \"5\":\n",
    "        ans = list()\n",
    "        flag = False\n",
    "        for item in dictionary.items():\n",
    "            if item[1] == op[1]:\n",
    "                ans.append(item[0])\n",
    "                flag = True\n",
    "        if flag:\n",
    "            ans.sort()\n",
    "            for item in ans:\n",
    "                print(item)\n",
    "        else:\n",
    "            print(\"None\")\n",
    "    elif op[0] == \"6\":\n",
    "        if dictionary.get(op[1], -1) == -1:\n",
    "            print(\"Failed\")\n",
    "        else:\n",
    "            dictionary[op[1]] = op[2]\n",
    "            print(\"Success\")\n",
    "    elif op[0] == \"7\":\n",
    "        ans = list()\n",
    "        for item in dictionary.items():\n",
    "            ans.append(item)\n",
    "        ans.sort()\n",
    "        for element in ans:\n",
    "            print(element[0], element[1])\n",
    "    elif op[0] == \"8\":\n",
    "        print(len(dictionary))\n",
    "    elif op[0] == \"9\":\n",
    "        dictionary.clear() "
   ]
  },
  {
   "cell_type": "code",
   "execution_count": 23,
   "metadata": {},
   "outputs": [
    {
     "name": "stdout",
     "output_type": "stream",
     "text": [
      "Test\n"
     ]
    },
    {
     "ename": "AnError",
     "evalue": "It's not an error but I want to raise it.",
     "output_type": "error",
     "traceback": [
      "\u001b[1;31m---------------------------------------------------------------------------\u001b[0m",
      "\u001b[1;31mAnError\u001b[0m                                   Traceback (most recent call last)",
      "Cell \u001b[1;32mIn[23], line 8\u001b[0m\n\u001b[0;32m      6\u001b[0m     \u001b[38;5;28mprint\u001b[39m(\u001b[38;5;124m\"\u001b[39m\u001b[38;5;124mTest\u001b[39m\u001b[38;5;124m\"\u001b[39m)\n\u001b[0;32m      7\u001b[0m \u001b[38;5;28;01mfinally\u001b[39;00m:\n\u001b[1;32m----> 8\u001b[0m     \u001b[38;5;28;01mraise\u001b[39;00m AnError(\u001b[38;5;124m\"\u001b[39m\u001b[38;5;124mIt\u001b[39m\u001b[38;5;124m'\u001b[39m\u001b[38;5;124ms not an error but I want to raise it.\u001b[39m\u001b[38;5;124m\"\u001b[39m)\n",
      "\u001b[1;31mAnError\u001b[0m: It's not an error but I want to raise it."
     ]
    }
   ],
   "source": [
    "class AnError(Exception):\n",
    "    pass\n",
    "\n",
    "\n",
    "try:\n",
    "    print(\"Test\")\n",
    "finally:\n",
    "    raise AnError(\"It's not an error but I want to raise it.\")"
   ]
  },
  {
   "cell_type": "code",
   "execution_count": 24,
   "metadata": {},
   "outputs": [
    {
     "name": "stdout",
     "output_type": "stream",
     "text": [
      "<class 'TypeError'> .m. ... I can't multiply sequence by non-int of type 'str' ... QAQ. It's the 1 time, I just can't.\n",
      "    *\n",
      "<class 'TypeError'> .m. ... I can't multiply sequence by non-int of type 'str' ... QAQ. It's the 2 time, I just can't.\n",
      "   ***\n",
      "<class 'TypeError'> .m. ... I can't multiply sequence by non-int of type 'str' ... QAQ. It's the 3 time, I just can't.\n",
      "  *****\n",
      "<class 'TypeError'> .m. ... I can't multiply sequence by non-int of type 'str' ... QAQ. It's the 4 time, I just can't.\n",
      " *******\n",
      "<class 'TypeError'> .m. ... I can't multiply sequence by non-int of type 'str' ... QAQ. It's the 5 time, I just can't.\n",
      "*********\n"
     ]
    }
   ],
   "source": [
    "#3019\n",
    "n = int(input())\n",
    "for i in range(1, n + 1):\n",
    "    #Just having fun here\n",
    "    try:\n",
    "        print(\" \" * str(n - i) + \"*\" * (2 * i - 1))\n",
    "    except Exception as e:\n",
    "        print(type(e), \".m.\", \"... I\", e,  \"...\", \"QAQ.\", \"It's\", \"already been\",  i, \"time(s),\", \"I\", \"just\", \"can't.\")\n",
    "    finally:\n",
    "        print(\" \" * (n - i) + \"*\" * (2 * i - 1))"
   ]
  }
 ],
 "metadata": {
  "kernelspec": {
   "display_name": "Python 3.10.6 64-bit",
   "language": "python",
   "name": "python3"
  },
  "language_info": {
   "codemirror_mode": {
    "name": "ipython",
    "version": 3
   },
   "file_extension": ".py",
   "mimetype": "text/x-python",
   "name": "python",
   "nbconvert_exporter": "python",
   "pygments_lexer": "ipython3",
   "version": "3.10.6"
  },
  "orig_nbformat": 4,
  "vscode": {
   "interpreter": {
    "hash": "afb734500600fd355917ca529030176ea0ca205570884b88f2f6f7d791fd3fbe"
   }
  }
 },
 "nbformat": 4,
 "nbformat_minor": 2
}
